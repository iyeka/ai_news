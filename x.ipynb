{
 "cells": [
  {
   "cell_type": "code",
   "execution_count": 10,
   "id": "c41e90fc",
   "metadata": {},
   "outputs": [],
   "source": [
    "import re\n",
    "\n",
    "def get_base_url(url):\n",
    "    match = re.search(r'/status/(\\d+)', url)\n",
    "    return match.group(1)"
   ]
  },
  {
   "cell_type": "code",
   "execution_count": 11,
   "id": "c7b0bb00",
   "metadata": {},
   "outputs": [],
   "source": [
    "import feedparser\n",
    "\n",
    "def get_posts(username):\n",
    "    url = f\"https://xcancel.com/{username}/rss\"\n",
    "    feed = feedparser.parse(url)\n",
    "\n",
    "    posts = []\n",
    "    for entry in feed.entries:\n",
    "        link = entry.link\n",
    "        base_link = get_base_url(link)\n",
    "        dictionary = dict(\n",
    "            date = entry.published,\n",
    "            author = entry.author,\n",
    "            title = entry.title,\n",
    "            content = entry.summary,\n",
    "            link = f\"https://x.com/{username}/status/{base_link}\" if base_link else link\n",
    "        )\n",
    "        posts.append(dictionary)\n",
    "    return posts\n",
    "\n",
    "posts = get_posts(\"lexifdev\")"
   ]
  },
  {
   "cell_type": "code",
   "execution_count": 12,
   "id": "73c1c046",
   "metadata": {},
   "outputs": [],
   "source": [
    "import utils\n",
    "\n",
    "users = set([\"IndieHackers\", \"levelsio\", \"ThePracticalDev\", \"matthewmontag\", \"kepano\", \"lexifdev\"])\n",
    "posts = utils.get_multiple_users_posts(users, function=get_posts)"
   ]
  },
  {
   "cell_type": "code",
   "execution_count": 13,
   "id": "000507f2",
   "metadata": {},
   "outputs": [],
   "source": [
    "import utils\n",
    "\n",
    "data = utils.finalize_data(posts)"
   ]
  },
  {
   "cell_type": "code",
   "execution_count": 14,
   "id": "f4b83931",
   "metadata": {},
   "outputs": [
    {
     "name": "stdout",
     "output_type": "stream",
     "text": [
      "✅ New data appended successfully: x!A2:E119\n"
     ]
    }
   ],
   "source": [
    "import utils\n",
    "import config\n",
    "\n",
    "sheet = config.setup_google_sheets_api()\n",
    "utils.BaseSave(config.X_SHEET).save_to_google_sheets(data)"
   ]
  }
 ],
 "metadata": {
  "kernelspec": {
   "display_name": "env",
   "language": "python",
   "name": "python3"
  },
  "language_info": {
   "codemirror_mode": {
    "name": "ipython",
    "version": 3
   },
   "file_extension": ".py",
   "mimetype": "text/x-python",
   "name": "python",
   "nbconvert_exporter": "python",
   "pygments_lexer": "ipython3",
   "version": "3.11.12"
  }
 },
 "nbformat": 4,
 "nbformat_minor": 5
}
