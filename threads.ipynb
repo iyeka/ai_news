{
 "cells": [
  {
   "cell_type": "code",
   "execution_count": null,
   "id": "71a3b0db",
   "metadata": {},
   "outputs": [],
   "source": [
    "import feedparser\n",
    "import json\n",
    "from playwright.sync_api import sync_playwright\n",
    "\n",
    "rss_url = \"https://rss.app/feeds/pvFyHp1Kflv8yTda.xml\"\n",
    "cookie_file = \"rss_app_cookies.json\"\n",
    "usernames = [\"choi.openai\", \"bocchi.ai\", \"mock_jokerbug\", \"ymzinvest\", \"obj.moss\", \"smilegoodthings\", \"quady.openai\", \"cuticogent\", \"anelo_96\", \"heo_intern\", \"aiowner_\"]\n",
    "\n",
    "def get_posts(url):\n",
    "    posts=[]\n",
    "\n",
    "    feed = feedparser.parse(url)\n",
    "    for entry in feed.entries:\n",
    "        post = dict(\n",
    "        date = entry.get(\"published\"),\n",
    "        content = entry.get(\"summary\"),\n",
    "        link = entry.get(\"link\"),\n",
    "        )\n",
    "        posts.append(post)\n",
    "\n",
    "    return posts"
   ]
  }
 ],
 "metadata": {
  "kernelspec": {
   "display_name": "env",
   "language": "python",
   "name": "python3"
  },
  "language_info": {
   "codemirror_mode": {
    "name": "ipython",
    "version": 3
   },
   "file_extension": ".py",
   "mimetype": "text/x-python",
   "name": "python",
   "nbconvert_exporter": "python",
   "pygments_lexer": "ipython3",
   "version": "3.11.12"
  }
 },
 "nbformat": 4,
 "nbformat_minor": 5
}
