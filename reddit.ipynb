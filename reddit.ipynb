{
 "cells": [
  {
   "cell_type": "code",
   "execution_count": 3,
   "id": "0baed24a",
   "metadata": {},
   "outputs": [],
   "source": [
    "import praw\n",
    "import os\n",
    "from dotenv import load_dotenv\n",
    "\n",
    "def get_reddit(community):\n",
    "    load_dotenv()\n",
    "\n",
    "    client_id=os.getenv(\"CLIENT_ID\")\n",
    "    client_secret=os.getenv(\"CLIENT_SECRET\")\n",
    "    user_agent=os.getenv(\"USER_AGENT\")\n",
    "\n",
    "    reddit = praw.Reddit(\n",
    "        client_id=client_id,\n",
    "        client_secret=client_secret,\n",
    "        user_agent=user_agent,\n",
    "    )\n",
    "\n",
    "    posts = []\n",
    "    subreddit = reddit.subreddit(community)\n",
    "    for submission in subreddit.hot(limit=5):\n",
    "        text_or_not = submission.is_self\n",
    "        dictionary = dict(\n",
    "            title = submission.title,\n",
    "            content = submission.selftext,\n",
    "            link = submission.url,\n",
    "        )\n",
    "        posts.append(dictionary)\n",
    "\n",
    "    return posts"
   ]
  },
  {
   "cell_type": "code",
   "execution_count": 4,
   "id": "83606442",
   "metadata": {},
   "outputs": [
    {
     "name": "stdout",
     "output_type": "stream",
     "text": [
      "{'title': 'Join the Model Context Protocol Discord Server!', 'content': '', 'link': 'https://glama.ai/mcp/discord'}\n",
      "{'title': 'Awesome MCP Servers –\\xa0A curated list of awesome Model Context Protocol (MCP) servers', 'content': '', 'link': 'https://github.com/punkpeye/awesome-mcp-servers/'}\n",
      "{'title': 'Building an MCP chatbot with SSE and Stdio server options from scratch using Nextjs and Composio', 'content': \"With all this recent hype around MCP, I didn't find a minimal MCP client written in Next.js that's capable of multi-tool calling and works with both remotely hosted MCP servers and local MCP servers.\\n\\nI thought, why not build something similar to Claude Desktop, like a chat MCP client that can communicate with any MCP servers?\\n\\nThe project uses\\n\\n* Next.js for building the chatbot\\n* Composio for managed MCP servers (Gmail, Linear, etc)\\n\\n(The project isn't necessarily that complex, and I’ve kept it simple, but it is 100% worth it and enough to understand how tool callings work under the hood.)\\n\\nHere’s the link to the project: [Chat MCP client](https://github.com/shricodev/chat-nextjs-mcp-client)\\n\\nI've documented how you can build the same for yourself in my recent blog post: [Building MCP chatbot from scratch](https://composio.dev/blog/building-your-own-mcp-client-from-scratch/)\\n\\nHere, I've shown how to use the chat client with remote MCP servers (Linear and Gmail) and a local file system MCP server.\\n\\n✅ Send mail to a person asking them to check Linear, as there's some runtime production error, and open a Linear issue.\\n\\n✅ List the allowed directory and ask it to create a new directory on top of it.\\n\\n(You can think of even more complex use cases, and really, the possibilities are endless with this once you set up the integration with the tools you like to use.)\\n\\nGive the project a try with any MCP servers and let me know how it goes!\", 'link': 'https://www.reddit.com/r/mcp/comments/1kkz0vz/building_an_mcp_chatbot_with_sse_and_stdio_server/'}\n",
      "{'title': 'Vercel now supports MCP hosting', 'content': \"On May 7th, Vercel officially announced MCP server support on Vercel hosting. Vercel is the owner of Next.js, the popular open source React framework. They also offers cloud hosting for Next.js, along with it’s [Vercel Functions](https://vercel.com/docs/functions) feature, it’s serverless backend like AWS Lambda. Before this announcement, our team tried hosting MCPs on Vercel, but failed. At the time, most cloud platforms had troubles supporting SSE capability. With this new announcement, MCP hosting is finally coming to Vercel hosted using Vercel Functions.\\n\\n# How do I set it up\\n\\nThe MCP is set up through Next.js’ Vercel Functions. A great place to start is by looking at or deploying the [official Vercel MCP + Next.js demo](https://vercel.com/templates/next.js/model-context-protocol-mcp-with-next-js). Vercel is known for it’s one click deploy experience, so this is a good way to dive right in and see it work.\\n\\nThe official docs explain it best and in detail, but the TLDR is that you set it up in the serverless function via the `app/api/[transport]` route. Setting it up this way deploys your endpoints for MCP. You can take the setup one step better by setting up [Fluid Compute](https://vercel.com/docs/functions/fluid-compute), optimizing server usage once you scale.\\n\\n# The vercel/mcp-adapter\\n\\nThe [vercel/mcp-adapter](https://github.com/vercel/mcp-adapter) SDK is the official Typescript SDK for MCP hosting on Vercel. Under the hood, the adapter is just a wrapper around the Anthropic `@ modelcontextprotocol` Typescript SDK that optimizes for hosting on Vercel. Setting up the server is as easy as it gets. You create the `createMcpHandler` object from the adapter and run it. This sets up the MCPs on Vercel serverless functions. \\n\\n     const handler = createMcpHandler(\\n      server => {\\n        server.tool(\\n          'roll_dice',\\n          'Rolls an N-sided die',\\n          { sides: z.number().int().min(2) },\\n          async ({ sides }) => {\\n            const value = 1 + Math.floor(Math.random() * sides);\\n            return {\\n              content: [{ type: 'text', text: `🎲 You rolled a ${value}!` }],\\n            };\\n          }\\n        );\\n      },\\n      {\\n        // Optional server options\\n      },\\n      {\\n        // Optional configuration\\n        redisUrl: process.env.REDIS_URL,\\n        // Set the basePath to where the handler is to automatically derive all endpoints\\n        // This base path is for if this snippet is located at: /app/api/[transport]/route.ts\\n        basePath: '/api',\\n        maxDuration: 60,\\n        verboseLogs: true,\\n      }\\n    );\\n    export { handler as GET, handler as POST };\\n    \\n\\nIf you want to use SSE instead of streamable HTTP, you must add a redis URL to enable that configuration. Other than the configuration, setting up the tool is like any other existing solution. This adapter was only launched 5 days ago. It is owned officially owned by Vercell, but always be cautious when using new and immature projects.\\n\\n# Why this is big for MCPs\\n\\nIn the early stages of MCPs, we didn’t see a lot of great ways to host MCPs. The earliest player in remote MCP hosting was Cloudflare, who introduced their [McpAgent](https://blog.cloudflare.com/remote-model-context-protocol-servers-mcp/). They were the first to offer one click “Deploy to Cloudflare” options for MCP, which is what Vercel was known for with Next.js. However, many developers aren’t familiar with hosting on Cloudflare, and it wasn’t clear for developers on how to host on the popular services like AWS.\\n\\nVercel MCP hosting is a game changer. Next.js is one of the most popular web frameworks, so developers with some understanding of Next.js and Vercel ecosystem could easily spin up an MCP server. We also appreciate Vercel’s decision to focus on Streamable HTTP in the SDK, while still allowing SSE as a choice.\", 'link': 'https://www.reddit.com/r/mcp/comments/1kkvsnd/vercel_now_supports_mcp_hosting/'}\n",
      "{'title': 'Could you explain how MCPs are different (and better?) than using APIs for external services in a way that makes sense?', 'content': 'Because as a counter-argument somebody could say, well, you could just use LLM to write your API requests, so why would you need MCPs? \\n\\nThe only real use case is to let it control your computer, but for external services you need an API anyway, so why would somebody bother with an MCP if they can simply hook it up to an existing API point and then use an agent orchestrator for non-linear workflows?', 'link': 'https://www.reddit.com/r/mcp/comments/1kkyajj/could_you_explain_how_mcps_are_different_and/'}\n",
      "{'title': 'Welcome', 'content': \"Welcome to the AI Builders community! AI Builders is the perfect subreddit for developers who are passionate about artificial intelligence. 🤖 Join our community to exchange ideas & share advice on building AI models, apps & more. Whether you're a seasoned professional or just getting started, you'll find the resources you need to take your AI development skills to the next level.\", 'link': 'https://www.reddit.com/r/AiBuilders/comments/1223kxl/welcome/'}\n",
      "{'title': 'I Think I Got the Final Version of My Digital Card', 'content': \"I just finished building a digital card to introduce myself to clients , it's a compact and clean way to showcase everything in one place!\\n\\nWould love to hear your thoughts or any ideas to improve it!\\n\\n>Here’s the prompt I used to build it:  \\n`Using HTML and CSS, create a digital card for me for introducing myself. The card should contain my pic, name, title, my social media (LinkedIn, Medium, Reddit, GitHub), my freelance accounts (Upwork, Fiverr, Freelancer), and contact options (email and WhatsApp). It should also have sections for previous projects and certifications, with the ability to show/hide each section on click.`\", 'link': 'https://v.redd.it/p4xtx6nc3d0f1'}\n",
      "{'title': 'Introducing SatyaDrishti (सत्यदृष्टि)', 'content': 'So we in collaboration with AIRAS INC came up with an advanced neural network capable of distinguishing between DeepFake and real images it comes in two variants Small and Large\\nSmall with :- 92.2 Million parameters trained on dataset from Jan 2025 - April 2025 mainly ones of prithivMLmods (Including image samples from Chatgpt 4o , Imagen , Flux etc)\\nLarge with :- 840 Million parameters trained on 50+ datasets collected from December to May 2025 including ones of prithivMLmods and custom dataset including videos from (Veo , Wanx 2.1 , sora , etc)\\n\\n\\nIt scores are  :- \\nEvaluation dataset (prithivMLmods Deepfake-vs-Real-v2)\\n\\nMetric\\tScore\\nAccuracy\\t96%\\nPrecision\\t98%\\nRecall\\t98%\\nF1-Score\\t97%\\n\\n\\nIts a direct competitor to Vastav [https://vastav.ekoahamdutivnasti.com/]\\n', 'link': 'https://huggingface.co/collections/AirasInnovations/satyadrishti-6820a4f77e054a5af8ca1861'}\n",
      "{'title': 'Agentic network with Drag and Drop - OpenSource', 'content': 'Wow, buiding Agentic Network is damn simple now.. Give it a try..\\n\\nhttps://github.com/themanojdesai/python-a2a', 'link': 'https://v.redd.it/ccclbg73650f1'}\n",
      "{'title': \"Using Ai agent's as a new coder.\", 'content': \"I was recently optimizing my development workflow for efficiency, and during that process, I came across Blackbox AI, which has piqued my interest.\\n\\nThe code suggestions are useful, but the effortless integration into practical problem solving is what truly captured my attention. From debugging legacy code to prototyping new ideas and trying to recall the syntax for less frequently used libraries, Blackbox has always ensured that I am able to work faster, effortlessly.\\n\\nOne of my favorite features is code searching and understanding using plain English. Contradictory to its premise, this feature has freed up so much of my time that I no longer have to switch tabs or sift through documents. The feeling is that of working with a knowledgeable teammate over a document rather than feeling like a user of a tool.\\n\\nFor those developers who want to accomplish more in less time, or explore how AI can help without interfering, I’d strongly recommend Blackbox AI. It’s safe to say Blackbox AI has seamlessly integrated into my day-to-day toolkit, which were my initial expectations.\\n\\nI feel like even though it might have shortcomings it's still the best coding Ai available compared to grok.Ai and other \\n\\n\", 'link': 'https://www.reddit.com/r/AiBuilders/comments/1kjl7ce/using_ai_agents_as_a_new_coder/'}\n",
      "{'title': 'I did it - just hit $5,000 revenue!!', 'content': '', 'link': 'https://i.redd.it/3xk3i2tlaf0f1.jpeg'}\n",
      "{'title': 'I built an app that turns cleaning into a game', 'content': \"Here you have one cute pet that lives in a tiny version of your home\\n\\nWhen you're ready to clean, you can ask your pet to join you — it tidies up with you in the app, gets happier, and helps level up each room\\n\\nThe more you clean together, the more achievements you unlock to customize your space and your companion\\n\\nWould you like to use something like this?\", 'link': 'https://i.redd.it/w9cgtl0kud0f1.jpeg'}\n",
      "{'title': 'God bless Canva! Designed all screen shots using it.', 'content': '', 'link': 'https://i.redd.it/0ln4of55ch0f1.jpeg'}\n",
      "{'title': 'Got my first 10 users!|', 'content': \"Got my first 10 users!!\\n\\nDidn't do much, just posted on [X](https://x.com/sammaji15) and reddit.\\n\\nHow do I figure out my target customers?\", 'link': 'https://i.redd.it/i4pm5rnvuc0f1.jpeg'}\n",
      "{'title': 'In January I was struggling to find work and pay rent after living off a PhD stipend for the last 3 years.\\nNow my side project has enough income to sustain myself for the next 8 months.\\nBuilding a side project can change your life!', 'content': '', 'link': 'https://i.redd.it/u4tycq5wbb0f1.jpeg'}\n",
      "{'title': 'AI VIDEO AWARDS 2025, Featuring TIGGY SKIBBLES, TRISHA CODE, MAX JOE STEEL and MORE', 'content': '', 'link': 'https://v.redd.it/bjoxovcnbame1'}\n",
      "{'title': 'They Warned Us', 'content': 'SOURCE /u/MetaKnowing', 'link': 'https://v.redd.it/wy7exuoo9eze1'}\n",
      "{'title': 'Fractured Reality 🌊🪞', 'content': 'SOURCE https://www.instagram.com/minimal_macbeth', 'link': 'https://v.redd.it/m2h67pciye0f1'}\n",
      "{'title': 'Cats Commuting by Fish 🐠🐈', 'content': 'SOURCE https://www.instagram.com/sprinklecatca', 'link': 'https://v.redd.it/eixw9b5q8f0f1'}\n",
      "{'title': 'Head for the hills', 'content': '', 'link': 'https://v.redd.it/2dx8ukii7g0f1'}\n"
     ]
    }
   ],
   "source": [
    "mcp = get_reddit(\"mcp\")\n",
    "aibuilders = get_reddit(\"AiBuilders\")\n",
    "sideproject = get_reddit(\"SideProject\")\n",
    "aivideo = get_reddit(\"aivideo\")\n",
    "\n",
    "posts = [*mcp, *aibuilders, *sideproject, *aivideo]\n",
    "for post in posts:\n",
    "    print(post)"
   ]
  }
 ],
 "metadata": {
  "kernelspec": {
   "display_name": "env",
   "language": "python",
   "name": "python3"
  },
  "language_info": {
   "codemirror_mode": {
    "name": "ipython",
    "version": 3
   },
   "file_extension": ".py",
   "mimetype": "text/x-python",
   "name": "python",
   "nbconvert_exporter": "python",
   "pygments_lexer": "ipython3",
   "version": "3.11.12"
  }
 },
 "nbformat": 4,
 "nbformat_minor": 5
}
