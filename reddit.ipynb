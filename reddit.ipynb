{
 "cells": [
  {
   "cell_type": "code",
   "execution_count": 2,
   "id": "0baed24a",
   "metadata": {},
   "outputs": [
    {
     "data": {
      "text/plain": [
       "[{'title': '7 days, 61 commits — my first solo app is now live on the App Store!\\nBuilt 100% by myself, from UI/UX and coding to marketing and operations.\\nIt’s an incredible feeling to create something from scratch and have full control every step of the way.',\n",
       "  'content': '1. Tech Stack  \\n• iOS native only.  \\n• Front-end: SwiftUI  \\n• Back-end: Swift  \\n• DB: SwiftData\\n\\n2. UI/UX  \\n• Logo: spun up with GPT-4.  \\n• A few marketing screens in Figma.  \\n• All pages coded directly in SwiftUI.\\xa0\\n\\n3. Site & Policies  \\n• Added a couple pages to the company site.  \\n• Deployed in seconds via AWS Amplify.\\n\\n4. IDE Workflow  \\n• 99% Xcode—hand-typed code, instant flow state.  \\n• Used Cursor once to auto-generate demo data.  \\n• AI = tireless intern.\\xa0\\n\\nTry it on AppStore, any feedback is highly appriciated!  \\n[https://apps.apple.com/us/app/fullpack/id6745692929](https://apps.apple.com/us/app/fullpack/id6745692929)',\n",
       "  'link': 'https://i.redd.it/vltf25shr82f1.jpeg'},\n",
       " {'title': 'I built a calendar app that displays time differently for people with ADHD',\n",
       "  'content': \"I've always had significant problems with time, scheduling, etc, and about ten years ago I realized that [standard analog clocks are not intuitive](https://www.spongefile.com/thoughts-on-time/) at all. Especially when you have ADHD/time blindness like me.\\n\\nI tried out several different physical clock solutions and finally realized software was the way to go, so I made an iOS app (Weel) that shows time as a direction, which can feel a lot more comfortable and intuitive for neurodiverse brains: [www.weelplanner.app](http://www.weelplanner.app)\\n\\nLet me know what you think! This has been really hard to market, because it's not your usual mainstream thing (and most platforms don't let you use ADHD as a keyword), but the users for whom it clicks seem to really love it.\",\n",
       "  'link': 'https://www.reddit.com/gallery/1krva6u'},\n",
       " {'title': 'From 0 to 550 users in 19 days with my open-source project',\n",
       "  'content': 'Open-launch, my open source alternative to Product Hunt, just hit 550 users, only 19 days after launch.\\n\\nRevenue: $260 || DR growth: +18 || 100–200 unique visitors daily\\n\\nFor context: my previous project took 6 months to reach 550 users.This feels surreal.  \\nhere is the project: [https://open-launch.com](https://open-launch.com)',\n",
       "  'link': 'https://i.redd.it/tzwxnukyd52f1.png'},\n",
       " {'title': 'I want to buy side projects.',\n",
       "  'content': 'People are building cool shit but either release it or do they have the time to grow it. I do!\\n\\nI run a small private equity business and I want to buy your failed startup. Your small thing that makes under $1000 a month. Your vibe coded project that does ___.  Etc. \\n\\nI want to buy apps with a small following ideally. My ideal tech stack is using Nextjs but I’m open to anything. \\n\\nI prefer the app has an existing twitter presence and some traffic. $0 in sales and  just a repo could also work. I’m looking for anything with potential. Dm or comment.\\n\\n',\n",
       "  'link': 'https://www.reddit.com/r/SideProject/comments/1ks8bfi/i_want_to_buy_side_projects/'},\n",
       " {'title': 'I’ve built online video editor',\n",
       "  'content': 'Hey everyone,\\n\\n\\n\\nI’ve built a web-based video editor using Remotion for real-time previews, and FFmpeg (WebAssembly port) for rendering.\\n\\n\\n\\nIt’s completely browser-based all processing, including rendering, happens right in your browser! It’s 100% free, with no watermarks, no registration required, and supports exports up to 1080p.\\n\\n\\n\\nCheck it out at [https://clipjs.vercel.app/](https://clipjs.vercel.app/)\\n\\n\\n\\nWhat do you think?',\n",
       "  'link': 'https://v.redd.it/7h1zb2scj62f1'},\n",
       " {'title': \"Made a website where you press a button and see how many people have pressed it before you. And if you restart there's achievements :)\",\n",
       "  'content': '',\n",
       "  'link': 'http://buttonga.me'},\n",
       " {'title': \"I don't make anything won't use myself. All made with vanilla javascript on firebase hosting.\",\n",
       "  'content': \"I've been solving my problems and have developed some simple but useful apps. I use the Draftr writing app daily after meditating with my Meditator app.\\n\\n\\n\\nCheck them out here: [https://www.rickybrowne.com/?section=Wl5bFmAoDFDtKc5LHmOcZQ%3D%3D](https://www.rickybrowne.com/?section=Wl5bFmAoDFDtKc5LHmOcZQ%3D%3D)\\n\\n\\n\\n6 Apps - All Free - No Ads\",\n",
       "  'link': 'https://i.redd.it/cc2nu31ai72f1.png'},\n",
       " {'title': 'I built an app to help you write a novel',\n",
       "  'content': '\"I do genuinely feel like emberwrite was a biiiiig part of finishing this one [novel]. It\\'s my first finished outside the motivation of nano, so having a good writing tool was so important.\"\\n\\nThe above is a quote from one of the beta testers of [EmberWrite](https://EmberWrite.com), an app I built to help people write, world build, and organise research for writing projects. Reading that filled me with glee as it was exactly why I started this project.\\n\\n20 years ago, I toyed with the idea of writing a novel. It didn\\'t last long as the process was so overwhelming, and I didn\\'t have a clue how to do it. Over time I kept exploring to see if there was software that would help me get the ideas out of my head, and into a cohesive story. Every time, I found a new tool, but it never came close to achieving what I wanted.\\n\\nA few years ago I met Micah, a friend who had written a novel, and they shared my experience of working through limitations, rather than being supported by the software in their writing journey. Knowing it wasn\\'t just me gave me the motivation to try and build my dream writing software.\\n\\nOver the past year and a half I\\'ve been on an incredible journey. Micah helped build a wonderful small community of writers that we could interview, and test ideas with. The app grew from a simple text editor, to a writing project management tool, with goals, character sheets, tagging systems for organisation. It\\'s been so rewarding to see the software develop into something not only I wanted, but the writers in our community wanted.\\n\\nAnd that brings me to today. The app is in beta, you can sign up through the link above, and join the discord community to give feedback and help EmberWrite grow even more. Micah and I are running a [Kickstarter](Https://link.emberwrite.com/join), which has been an adventure into a world completely unknown, and recently for me and experience of learning how to create videos. I\\'ve loved every minute of the journey so far, and I recommend all of you to build something that you\\'ll love, and find a community to share that journey with\\n\\nPlease do share thoughts/advice/questions in the comments. Interested to see what this community has to say.',\n",
       "  'link': 'https://v.redd.it/du5bjuw7462f1'},\n",
       " {'title': 'I made a browser extension that lets you add any feature to any website (voice input, timers, UI changes)',\n",
       "  'content': \"I always got annoyed when sites lacked a basic feature I wanted. So I built something called Magix, it lets you just describe what you want, and it changes the website for you.\\n\\nFor example, I added voice transcription button to Lovable, and a Pomodoro timer right inside Notion. You can also hide stuff, change colors, redesign buttons, etc.\\n\\nIt’s like modding the internet, without code.\\n\\n[trymagix.com](http://trymagix.com)\\n\\nIf you're out of requests while trying, pls dm me I'll give you a promo code :)\",\n",
       "  'link': 'https://i.redd.it/1dhr1we3p82f1.png'},\n",
       " {'title': 'After months of work, we’re excited to release FFmate — our first open-source FFmpeg automation tool!',\n",
       "  'content': 'Hey everyone,\\n\\nWe really excited to finally share something our team has been pouring a lot of effort into over the past months —\\xa0[FFmate](https://docs.ffmate.io/), an\\xa0[open-source project](https://github.com/welovemedia/ffmate)\\xa0built in Golang to make FFmpeg workflows way easier.\\n\\nIf you’ve ever struggled with managing multiple FFmpeg jobs, messy filenames, or automating transcoding tasks, FFmate might be just what you need. It’s designed to work wherever you want — on-premise, in the cloud, or inside Docker containers.\\n\\nHere’s a quick rundown of what it can do:\\n\\n* Manage multiple FFmpeg jobs with a queueing system\\n* Use dynamic wildcards for output filenames\\n* Get real-time webhook notifications to hook into your workflows\\n* Automatically watch folders and process new files\\n* Run custom pre- and post-processing scripts\\n* Simplify common tasks with preconfigured presets\\n* Monitor and control everything through a neat web UI\\n\\nWe’re releasing this as fully open-source because we want to build a\\xa0[community](https://discord.gg/ef6gQGr2)\\xa0around it, get feedback, and keep improving.\\n\\nIf you’re interested, check it out here:\\n\\nWebsite:\\xa0[https://ffmate.io](https://ffmate.io/)  \\nGitHub:\\xa0[https://github.com/welovemedia/ffmate](https://github.com/welovemedia/ffmate)\\n\\nWould love to hear what you think — and especially: what’s your biggest FFmpeg pain point that you wish was easier to handle?',\n",
       "  'link': 'https://www.reddit.com/r/SideProject/comments/1ks6rq6/after_months_of_work_were_excited_to_release/'}]"
      ]
     },
     "execution_count": 2,
     "metadata": {},
     "output_type": "execute_result"
    }
   ],
   "source": [
    "import praw\n",
    "import os\n",
    "from dotenv import load_dotenv\n",
    "\n",
    "def get_posts(community):\n",
    "    load_dotenv()\n",
    "\n",
    "    client_id=os.getenv(\"CLIENT_ID\")\n",
    "    client_secret=os.getenv(\"CLIENT_SECRET\")\n",
    "    user_agent=os.getenv(\"USER_AGENT\")\n",
    "\n",
    "    reddit = praw.Reddit(\n",
    "        client_id=client_id,\n",
    "        client_secret=client_secret,\n",
    "        user_agent=user_agent,\n",
    "    )\n",
    "\n",
    "    posts = []\n",
    "    subreddit = reddit.subreddit(community)\n",
    "    for submission in subreddit.hot(limit=10):\n",
    "        text_or_not = submission.is_self\n",
    "        dictionary = dict(\n",
    "            title = submission.title,\n",
    "            content = submission.selftext,\n",
    "            link = submission.url,\n",
    "        )\n",
    "        posts.append(dictionary)\n",
    "\n",
    "    return posts\n",
    "\n",
    "get_posts(\"SideProject\")"
   ]
  },
  {
   "cell_type": "code",
   "execution_count": 3,
   "id": "83606442",
   "metadata": {},
   "outputs": [
    {
     "data": {
      "text/plain": [
       "[{'title': 'Join the Model Context Protocol Discord Server!',\n",
       "  'content': '',\n",
       "  'link': 'https://glama.ai/mcp/discord'},\n",
       " {'title': 'Awesome MCP Servers –\\xa0A curated list of awesome Model Context Protocol (MCP) servers',\n",
       "  'content': '',\n",
       "  'link': 'https://github.com/punkpeye/awesome-mcp-servers/'},\n",
       " {'title': 'Turn any OpenAPI spec into an MCP server, a new open-source project, looking for feedback!',\n",
       "  'content': 'Hi! Over the past couple of weeks, we’ve been working on an open-source project that lets anyone run an MCP server on top of any API that has an OpenAPI/Swagger document. We’ve also created an optional, interactive CLI that lets you filter out tools and edit their descriptions for better selection and usage by your LLMs.   \\n  \\nWe’d love your feedback and suggestions if you have a chance to give it a try :) \\n\\nGitHub: [https://github.com/brizzai/auto-mcp](https://github.com/brizzai/auto-mcp) ( feel free to drop us a star ⭐ )  \\nOur Page: [https://automcp.brizz.ai/](https://automcp.brizz.ai/) ( thanks Lovable )  \\n',\n",
       "  'link': 'https://v.redd.it/kzpcea2a872f1'},\n",
       " {'title': 'getmcp.dev is a public catalog of hundreds of mcp servers by verified publishers',\n",
       "  'content': \"Postman released [getmcp.dev](http://getmcp.dev) that is a public catalog of mcp servers. We go through a verification process with the publishers to ensure the mcp servers listed here meet our standards.\\n\\nThere are both STDIO and HTTP methods listed. If the publisher has a github repo, it'll be linked, otherwise, you can simply pull in the `https:` into your config file and away you go!\\n\\nThe team would love your feedback!\",\n",
       "  'link': 'https://v.redd.it/0iicg258i62f1'},\n",
       " {'title': 'list of my favourite mcps to use with cursor',\n",
       "  'content': 'list of my favourite mcps to use with cursor\\n\\n1. [Exa.ai](http://Exa.ai) MCP  -  web search and scraping\\n2. [Browserbase MCP Server](https://github.com/browserbase/mcp-server-browserbase) - cloud browser automation\\n3. [Firecrawl MCP Server](https://github.com/mendableai/firecrawl-mcp-server) - web scraping server\\n4. [Magic MCP](https://github.com/21st-dev/magic-mcp) - generative AI server\\n5. [Opik MCP](https://github.com/comet-ml/opik-mcp) - experiment tracking server\\n6. [Figma Context MCP](https://github.com/GLips/Figma-Context-MCP) - design integration\\n7. [Pandoc MCP](https://mcpmarket.com/server/pandoc) - doc creation server\\n\\nWho else should I add here?',\n",
       "  'link': 'https://www.reddit.com/r/mcp/comments/1ksbf9u/list_of_my_favourite_mcps_to_use_with_cursor/'},\n",
       " {'title': 'Computer Vision models via MCP (open-source repo)',\n",
       "  'content': \"Cross-posted.   \\nHas anyone tried exposing CV models via MCP so that they can be used as tools by Claude etc.? We couldn't find anything so we made an open-source repo\\xa0[https://github.com/groundlight/mcp-vision](https://github.com/groundlight/mcp-vision)\\xa0that turns HuggingFace zero-shot object detection pipelines into MCP tools to locate objects or zoom (crop) to an object. We're working on expanding to other tools and welcome community contributions.\\n\\nConceptually vision capabilities as tools are complementary to a VLM's reasoning powers. In practice the zoom tool allows Claude to see small details much better.\\n\\nThe video shows Claude Sonnet 3.7 using the zoom tool via\\xa0`mcp-vision`\\xa0to correctly answer the first question from the V\\\\*Bench/GPT4-hard dataset. I will post the version with no tools that fails in the comments.\\n\\nAlso wrote a\\xa0[blog post](https://www.groundlight.ai/blog/vision-as-mcp-service)\\xa0on why it's a good idea for VLMs to lean into external tool use for vision tasks.\",\n",
       "  'link': 'https://v.redd.it/t3hhcjo9l52f1'},\n",
       " {'title': 'Stop Vibe Testing Your MCP Server',\n",
       "  'content': 'MCP servers are the APIs that connect LLMs to the real world... so why don\\'t we test them like APIs? \\n\\nMost frequently, I see people \"vibe testing\" MCPs through an LLM chat interface as a one-time sanity check. In part, I think this has a lot to do with the (lack of) developer tooling in the space. We can do better!\\n\\nIn this post, I introduce FastMCP\\'s focus on fast, deterministic testing in order to bring even more engineering best practices to MCP.',\n",
       "  'link': 'https://www.jlowin.dev/blog/stop-vibe-testing-mcp-servers'},\n",
       " {'title': 'Memory Bank MCP Server – MCP protocol server for managing multi-project Markdown documents, supporting project isolation and LLM tool integration.',\n",
       "  'content': '',\n",
       "  'link': 'https://glama.ai/mcp/servers/@yywdandan/memory-bank-mcp-server'},\n",
       " {'title': 'FastMCP v2 –\\xa0now defaults to streamable HTTP with SSE fallback',\n",
       "  'content': 'This change means that you no longer need to choose between the two and can support both protocols.',\n",
       "  'link': 'https://github.com/punkpeye/fastmcp/releases/tag/v2.0.0'},\n",
       " {'title': 'Leverage AI Web Agent + MCP in Your Own Chrome Browser',\n",
       "  'content': 'We are excited to release MCP integration such that with just prompting you can get our web agent to autonomously do tasks and call MCP Servers right in your own browser!',\n",
       "  'link': 'https://www.youtube.com/watch?v=L_3JiOYI-kI'},\n",
       " {'title': '7 days, 61 commits — my first solo app is now live on the App Store!\\nBuilt 100% by myself, from UI/UX and coding to marketing and operations.\\nIt’s an incredible feeling to create something from scratch and have full control every step of the way.',\n",
       "  'content': '1. Tech Stack  \\n• iOS native only.  \\n• Front-end: SwiftUI  \\n• Back-end: Swift  \\n• DB: SwiftData\\n\\n2. UI/UX  \\n• Logo: spun up with GPT-4.  \\n• A few marketing screens in Figma.  \\n• All pages coded directly in SwiftUI.\\xa0\\n\\n3. Site & Policies  \\n• Added a couple pages to the company site.  \\n• Deployed in seconds via AWS Amplify.\\n\\n4. IDE Workflow  \\n• 99% Xcode—hand-typed code, instant flow state.  \\n• Used Cursor once to auto-generate demo data.  \\n• AI = tireless intern.\\xa0\\n\\nTry it on AppStore, any feedback is highly appriciated!  \\n[https://apps.apple.com/us/app/fullpack/id6745692929](https://apps.apple.com/us/app/fullpack/id6745692929)',\n",
       "  'link': 'https://i.redd.it/vltf25shr82f1.jpeg'},\n",
       " {'title': 'I built a calendar app that displays time differently for people with ADHD',\n",
       "  'content': \"I've always had significant problems with time, scheduling, etc, and about ten years ago I realized that [standard analog clocks are not intuitive](https://www.spongefile.com/thoughts-on-time/) at all. Especially when you have ADHD/time blindness like me.\\n\\nI tried out several different physical clock solutions and finally realized software was the way to go, so I made an iOS app (Weel) that shows time as a direction, which can feel a lot more comfortable and intuitive for neurodiverse brains: [www.weelplanner.app](http://www.weelplanner.app)\\n\\nLet me know what you think! This has been really hard to market, because it's not your usual mainstream thing (and most platforms don't let you use ADHD as a keyword), but the users for whom it clicks seem to really love it.\",\n",
       "  'link': 'https://www.reddit.com/gallery/1krva6u'},\n",
       " {'title': 'From 0 to 550 users in 19 days with my open-source project',\n",
       "  'content': 'Open-launch, my open source alternative to Product Hunt, just hit 550 users, only 19 days after launch.\\n\\nRevenue: $260 || DR growth: +18 || 100–200 unique visitors daily\\n\\nFor context: my previous project took 6 months to reach 550 users.This feels surreal.  \\nhere is the project: [https://open-launch.com](https://open-launch.com)',\n",
       "  'link': 'https://i.redd.it/tzwxnukyd52f1.png'},\n",
       " {'title': 'I want to buy side projects.',\n",
       "  'content': 'People are building cool shit but either release it or do they have the time to grow it. I do!\\n\\nI run a small private equity business and I want to buy your failed startup. Your small thing that makes under $1000 a month. Your vibe coded project that does ___.  Etc. \\n\\nI want to buy apps with a small following ideally. My ideal tech stack is using Nextjs but I’m open to anything. \\n\\nI prefer the app has an existing twitter presence and some traffic. $0 in sales and  just a repo could also work. I’m looking for anything with potential. Dm or comment.\\n\\n',\n",
       "  'link': 'https://www.reddit.com/r/SideProject/comments/1ks8bfi/i_want_to_buy_side_projects/'},\n",
       " {'title': 'I’ve built online video editor',\n",
       "  'content': 'Hey everyone,\\n\\n\\n\\nI’ve built a web-based video editor using Remotion for real-time previews, and FFmpeg (WebAssembly port) for rendering.\\n\\n\\n\\nIt’s completely browser-based all processing, including rendering, happens right in your browser! It’s 100% free, with no watermarks, no registration required, and supports exports up to 1080p.\\n\\n\\n\\nCheck it out at [https://clipjs.vercel.app/](https://clipjs.vercel.app/)\\n\\n\\n\\nWhat do you think?',\n",
       "  'link': 'https://v.redd.it/7h1zb2scj62f1'},\n",
       " {'title': \"Made a website where you press a button and see how many people have pressed it before you. And if you restart there's achievements :)\",\n",
       "  'content': '',\n",
       "  'link': 'http://buttonga.me'},\n",
       " {'title': \"I don't make anything won't use myself. All made with vanilla javascript on firebase hosting.\",\n",
       "  'content': \"I've been solving my problems and have developed some simple but useful apps. I use the Draftr writing app daily after meditating with my Meditator app.\\n\\n\\n\\nCheck them out here: [https://www.rickybrowne.com/?section=Wl5bFmAoDFDtKc5LHmOcZQ%3D%3D](https://www.rickybrowne.com/?section=Wl5bFmAoDFDtKc5LHmOcZQ%3D%3D)\\n\\n\\n\\n6 Apps - All Free - No Ads\",\n",
       "  'link': 'https://i.redd.it/cc2nu31ai72f1.png'},\n",
       " {'title': 'I built an app to help you write a novel',\n",
       "  'content': '\"I do genuinely feel like emberwrite was a biiiiig part of finishing this one [novel]. It\\'s my first finished outside the motivation of nano, so having a good writing tool was so important.\"\\n\\nThe above is a quote from one of the beta testers of [EmberWrite](https://EmberWrite.com), an app I built to help people write, world build, and organise research for writing projects. Reading that filled me with glee as it was exactly why I started this project.\\n\\n20 years ago, I toyed with the idea of writing a novel. It didn\\'t last long as the process was so overwhelming, and I didn\\'t have a clue how to do it. Over time I kept exploring to see if there was software that would help me get the ideas out of my head, and into a cohesive story. Every time, I found a new tool, but it never came close to achieving what I wanted.\\n\\nA few years ago I met Micah, a friend who had written a novel, and they shared my experience of working through limitations, rather than being supported by the software in their writing journey. Knowing it wasn\\'t just me gave me the motivation to try and build my dream writing software.\\n\\nOver the past year and a half I\\'ve been on an incredible journey. Micah helped build a wonderful small community of writers that we could interview, and test ideas with. The app grew from a simple text editor, to a writing project management tool, with goals, character sheets, tagging systems for organisation. It\\'s been so rewarding to see the software develop into something not only I wanted, but the writers in our community wanted.\\n\\nAnd that brings me to today. The app is in beta, you can sign up through the link above, and join the discord community to give feedback and help EmberWrite grow even more. Micah and I are running a [Kickstarter](Https://link.emberwrite.com/join), which has been an adventure into a world completely unknown, and recently for me and experience of learning how to create videos. I\\'ve loved every minute of the journey so far, and I recommend all of you to build something that you\\'ll love, and find a community to share that journey with\\n\\nPlease do share thoughts/advice/questions in the comments. Interested to see what this community has to say.',\n",
       "  'link': 'https://v.redd.it/du5bjuw7462f1'},\n",
       " {'title': 'I made a browser extension that lets you add any feature to any website (voice input, timers, UI changes)',\n",
       "  'content': \"I always got annoyed when sites lacked a basic feature I wanted. So I built something called Magix, it lets you just describe what you want, and it changes the website for you.\\n\\nFor example, I added voice transcription button to Lovable, and a Pomodoro timer right inside Notion. You can also hide stuff, change colors, redesign buttons, etc.\\n\\nIt’s like modding the internet, without code.\\n\\n[trymagix.com](http://trymagix.com)\\n\\nIf you're out of requests while trying, pls dm me I'll give you a promo code :)\",\n",
       "  'link': 'https://i.redd.it/1dhr1we3p82f1.png'},\n",
       " {'title': 'After months of work, we’re excited to release FFmate — our first open-source FFmpeg automation tool!',\n",
       "  'content': 'Hey everyone,\\n\\nWe really excited to finally share something our team has been pouring a lot of effort into over the past months —\\xa0[FFmate](https://docs.ffmate.io/), an\\xa0[open-source project](https://github.com/welovemedia/ffmate)\\xa0built in Golang to make FFmpeg workflows way easier.\\n\\nIf you’ve ever struggled with managing multiple FFmpeg jobs, messy filenames, or automating transcoding tasks, FFmate might be just what you need. It’s designed to work wherever you want — on-premise, in the cloud, or inside Docker containers.\\n\\nHere’s a quick rundown of what it can do:\\n\\n* Manage multiple FFmpeg jobs with a queueing system\\n* Use dynamic wildcards for output filenames\\n* Get real-time webhook notifications to hook into your workflows\\n* Automatically watch folders and process new files\\n* Run custom pre- and post-processing scripts\\n* Simplify common tasks with preconfigured presets\\n* Monitor and control everything through a neat web UI\\n\\nWe’re releasing this as fully open-source because we want to build a\\xa0[community](https://discord.gg/ef6gQGr2)\\xa0around it, get feedback, and keep improving.\\n\\nIf you’re interested, check it out here:\\n\\nWebsite:\\xa0[https://ffmate.io](https://ffmate.io/)  \\nGitHub:\\xa0[https://github.com/welovemedia/ffmate](https://github.com/welovemedia/ffmate)\\n\\nWould love to hear what you think — and especially: what’s your biggest FFmpeg pain point that you wish was easier to handle?',\n",
       "  'link': 'https://www.reddit.com/r/SideProject/comments/1ks6rq6/after_months_of_work_were_excited_to_release/'},\n",
       " {'title': 'Welcome',\n",
       "  'content': \"Welcome to the AI Builders community! AI Builders is the perfect subreddit for developers who are passionate about artificial intelligence. 🤖 Join our community to exchange ideas & share advice on building AI models, apps & more. Whether you're a seasoned professional or just getting started, you'll find the resources you need to take your AI development skills to the next level.\",\n",
       "  'link': 'https://www.reddit.com/r/AiBuilders/comments/1223kxl/welcome/'},\n",
       " {'title': \"We're building a productivity AI agent personalized for you — with custom avatars, unique personalities, and more!\",\n",
       "  'content': \"We're building a state-of-the-art productivity AI (like ChatGPT) that's hyper-personalized for you — with custom avatars, unique personalities, and more. We believe that as AI becomes increasingly integral to our lives, it should evolve from a mere 'tool' to something you're deeply connected with. If you're passionate about this vision and want early access, please fill out the form!\\n\\n[https://forms.gle/kCcZrm8PLW52cgZV7](https://forms.gle/kCcZrm8PLW52cgZV7)\",\n",
       "  'link': 'https://v.redd.it/xxqfae53bu1f1'},\n",
       " {'title': 'Has anyone else started using AI instead of Googling things?',\n",
       "  'content': \"I’ve realized that I’m reaching for AI tools more often than search engines these days. Whether it's a quick explanation, help with a concept, or even random general use I just type it into an AI chat. It feels more efficient sometimes. Anybody else doing the same or still sticking with traditional search.\",\n",
       "  'link': 'https://www.reddit.com/r/AiBuilders/comments/1kph7ue/has_anyone_else_started_using_ai_instead_of/'},\n",
       " {'title': 'Best app for this?',\n",
       "  'content': 'Hi everyone,\\n\\nI have several audio clips from a class lecture (it’s originally a video, but I only need the audio part). My goal is to transcribe the audio into text, and then use an AI to summarize the content, since I can’t attend all classes and need an efficient way to review them.\\n\\nHere’s what I need:\\n\\t•\\tA reliable AI tool that can transcribe audio into fairly accurate text (even with some mistakes, it’s okay as long as the main ideas are there).\\n\\t•\\tOnce transcribed, I’ll provide the AI with a document explaining that the text comes from a class lecture, so I expect it to logically structure the information and produce a coherent summary.\\n\\t•\\tIdeally, the AI should be able to detect that the original text may have errors due to transcription and correct them or ignore them when making sense of the content.\\n\\nWhat tools or workflow would you recommend for this process? Any AI model that works particularly well for noisy transcripts from educational content?\\n\\nThanks in advance!\\n',\n",
       "  'link': 'https://www.reddit.com/r/AiBuilders/comments/1kpxj30/best_app_for_this/'},\n",
       " {'title': 'AI developers for my SaaS',\n",
       "  'content': 'Looking for another AI developer for my startup, I have three cofounders and another who is working as an employee. We will launch in July. ',\n",
       "  'link': 'https://www.reddit.com/r/AiBuilders/comments/1kofvp1/ai_developers_for_my_saas/'},\n",
       " {'title': 'Why does Google Gemini sometimes do dumb things?',\n",
       "  'content': 'Sometimes it randomly generates something ',\n",
       "  'link': 'https://i.redd.it/d7qb2vgfjy0f1.jpeg'},\n",
       " {'title': 'What’s the first thing you built using AI tools?',\n",
       "  'content': 'Mine was a simple Python script that renames a bunch of files at once. Nothing fancy, but it saved me hours and made me realize how useful AI coding assistants really are.',\n",
       "  'link': 'https://www.reddit.com/r/AiBuilders/comments/1kmx5ym/whats_the_first_thing_you_built_using_ai_tools/'},\n",
       " {'title': '[Vrinda 4.0 Update Announcement]',\n",
       "  'content': \"\\n\\nWe're thrilled to announce Vrinda 4.0 — a massive leap forward in performance, design, and intelligence!\\n\\nWhat's New? ✨ Complete Redesign — Clean, minimal, and blazing fast. We've removed bulky animations for a smoother, more fluid experience.\\n\\n⚡ AI Upgrade\\n\\nVrinda's core is upgrading from NVIDIA Nemotron to Claude Sonnet 3.5 for smarter, more natural conversations.\\n\\nFor Vrinda Hacker Mode, we're moving from Nemotron to the powerful MythoMax for unmatched reasoning and flexibility.\\n\\n\\nIndian Touch — Vrinda is getting a beautiful Indian-inspired look, reflecting her roots while staying modern and elegant.\\n\\nThis isn't just an update. It's a transformation.\\nVrinda 4.0 is coming. Are you ready?\\n\\n#VrindaAI #Creeta #AIUpdate #ClaudeSonnet #MythoMax #IndianAI #HackerMode #MinimalDesign #Vrinda4\\n\",\n",
       "  'link': 'https://i.redd.it/ootpx4fqgy0f1.png'},\n",
       " {'title': \"We have pioneered a new way for devs and non-devs alike to build AI Agents (hint: it's NOT drag&drop)\",\n",
       "  'content': 'Everyone wants their own AI Agents, but very few have the time, energy and background to build, test and deploy them from scratch.\\n\\nExisting solutions are to either write everything from scratch (as well as managing the test environment, establishing the infra, etc.) or they are stuck with drag&drop flow builders which have existed for over 10 years. They are a patchwork of solutions; \"AI-added\" instead of \"AI-first\", they come with pre-defined logic (blocks) that you can\\'t step out of. Worst of all, they are in an integrations arms race to see who has the most, forcing users to frequently switch to different products because they are bound by the integrations offered by the platform.\\n\\nUsers have two choices: Learn how to code and do everything yourself, or sit through many tutorial videos and documentations to accomplish a basic flow in a flow builder.\\n\\nIn our former business where we built enterprise-level vertical AI Agents, we were also frustrated. Our devs were wasting valuable time doing everything manually, and I couldn\\'t help them out because I never had the time to become Professor Emeritus in n8n. So we developed an internal tool, and only later realized its true potential.\\n\\n**The future isn\\'t a better drag&drop, it is the complete elimination of it.**\\n\\n**If people can vibe-code entire apps from scratch, why can\\'t they vibe-build entire multi-agent systems from scratch?**\\xa0Agents in code are objectively more capable, so why restrain oneself with the flow automation logic of the past decade?\\n\\nThat\\'s why\\xa0we decided to offer **Demiurg**\\xa0for everyone: To provide a platform where users can vibe-build the multi-agent system they want using natural language. No drag&drop, everything in code, everything manually editable, or otherwise promptable. Here is how it works (and how every other builder will work in the future!)\\n\\n1. User describes the type of Agent they want\\n2. Demiurg writes the code from scratch\\n3. Users can test immediately. If they are not satisfied, user can edit the code manually, or ask for a redraft\\n4. They can deploy the Agent instantly; publicly or privately. Public agents can be sent to anyone, or they can be used as blueprints for other users\\n5. And that\\'s it\\n\\nOther platforms that promote \"building AI Agents using natural language prompting\" miss one crucial element.\\xa0**They still depend on ordering pre-defined blocks!**\\xa0Demiurg, on the other hand, writes the code from scratch, offering truly limitless capabilities.\\n\\nYou want a financial analyst that looks up stock prices and executes based on your inputs from Telegram?\\xa0**We can one-shot it.**\\n\\nYou want a content generation pipeline, from research to drafts to posting, with its own database, that acts based on what you write in a Slack channel?\\xa0**Should take about 10 minutes.**\\n\\nThe possibilities are endless for deploying truly autonomous, truly capable multi-agent systems that enables\\xa0**everyone**\\xa0to harness the power and liberty that comes with having one\\'s own AI Agents.\\n\\nI wanted to share this with you to gauge your interest in such a solution, and whether you\\'ve had the same problems as we had while orchestrating agentic AI systems.\\n\\n**Our Waitlist is open, drop a comment and I\\'ll guide you there!** Very curious to hear your opinion and answer your questions!\\n\\n[Demiurg transforms user prompts into code-native, multi-agent AI systems and completely streamlines the experience for orchestrating AI Agents for devs and non-devs alike.](https://reddit.com/link/1kmfzx3/video/6m8n52ux7r0f1/player)\\n\\n',\n",
       "  'link': 'https://www.reddit.com/r/AiBuilders/comments/1kmfzx3/we_have_pioneered_a_new_way_for_devs_and_nondevs/'},\n",
       " {'title': 'Introducing SatyaDrishti (सत्यदृष्टि)',\n",
       "  'content': 'So we in collaboration with AIRAS INC came up with an advanced neural network capable of distinguishing between DeepFake and real images it comes in two variants Small and Large\\nSmall with :- 92.2 Million parameters trained on dataset from Jan 2025 - April 2025 mainly ones of prithivMLmods (Including image samples from Chatgpt 4o , Imagen , Flux etc)\\nLarge with :- 840 Million parameters trained on 50+ datasets collected from December to May 2025 including ones of prithivMLmods and custom dataset including videos from (Veo , Wanx 2.1 , sora , etc)\\n\\n\\nIt scores are  :- \\nEvaluation dataset (prithivMLmods Deepfake-vs-Real-v2)\\n\\nMetric\\tScore\\nAccuracy\\t96%\\nPrecision\\t98%\\nRecall\\t98%\\nF1-Score\\t97%\\n\\n\\nIts a direct competitor to Vastav [https://vastav.ekoahamdutivnasti.com/]\\n',\n",
       "  'link': 'https://huggingface.co/collections/AirasInnovations/satyadrishti-6820a4f77e054a5af8ca1861'}]"
      ]
     },
     "execution_count": 3,
     "metadata": {},
     "output_type": "execute_result"
    }
   ],
   "source": [
    "import utils\n",
    "\n",
    "reddits = set([\"mcp\", \"AiBuilders\", \"SideProject\"])\n",
    "posts = utils.get_multiple_users_posts(reddits, function=get_posts)\n",
    "posts"
   ]
  },
  {
   "cell_type": "code",
   "execution_count": null,
   "id": "dd7c4d92",
   "metadata": {},
   "outputs": [],
   "source": [
    "import utils\n",
    "\n",
    "data = utils.finalize_data(posts)\n",
    "data"
   ]
  },
  {
   "cell_type": "code",
   "execution_count": null,
   "id": "27a0b2e4",
   "metadata": {},
   "outputs": [],
   "source": [
    "def using_googletranslate(rows):\n",
    "    # get rows\n",
    "    headers = rows[0]\n",
    "    data_rows = rows[1:]\n",
    "\n",
    "    # get columns\n",
    "    title_idx = headers.index(\"title\")\n",
    "    content_idx = headers.index(\"content\")\n",
    "\n",
    "    for row in data_rows:\n",
    "        row[title_idx] = f'=GOOGLETRANSLATE(\"{row[title_idx]}\", \"en\", \"ko\")'\n",
    "        row[content_idx] = f'=GOOGLETRANSLATE(\"{row[content_idx]}\", \"en\", \"ko\")'\n",
    "\n",
    "    return data_rows"
   ]
  },
  {
   "cell_type": "code",
   "execution_count": null,
   "id": "c82729bd",
   "metadata": {},
   "outputs": [
    {
     "name": "stdout",
     "output_type": "stream",
     "text": [
      "✅ New data appended successfully: ideas!A2:C41\n"
     ]
    }
   ],
   "source": [
    "import utils\n",
    "import config\n",
    "\n",
    "sheet = utils.setup_google_sheets_api()\n",
    "utils.save_to_google_sheet(data, config.REDDIT_SHEET)"
   ]
  }
 ],
 "metadata": {
  "kernelspec": {
   "display_name": "env",
   "language": "python",
   "name": "python3"
  },
  "language_info": {
   "codemirror_mode": {
    "name": "ipython",
    "version": 3
   },
   "file_extension": ".py",
   "mimetype": "text/x-python",
   "name": "python",
   "nbconvert_exporter": "python",
   "pygments_lexer": "ipython3",
   "version": "3.11.12"
  }
 },
 "nbformat": 4,
 "nbformat_minor": 5
}
