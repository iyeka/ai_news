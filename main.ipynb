{
 "cells": [
  {
   "cell_type": "code",
   "execution_count": null,
   "id": "568ab399",
   "metadata": {},
   "outputs": [],
   "source": [
    "from youtube import main\n",
    "\n",
    "video_id = \"GKG6Gi7gT2o\"\n",
    "main(video_id)"
   ]
  },
  {
   "cell_type": "code",
   "execution_count": null,
   "id": "a8c54fe6",
   "metadata": {},
   "outputs": [],
   "source": [
    "from x import main\n",
    "\n",
    "users = set([\"IndieHackers\", \"levelsio\", \"ThePracticalDev\", \"matthewmontag\", \"kepano\", \"lexifdev\"])\n",
    "main(users)"
   ]
  },
  {
   "cell_type": "code",
   "execution_count": null,
   "id": "0efbf6d4",
   "metadata": {},
   "outputs": [],
   "source": [
    "from reddit import main\n",
    "\n",
    "reddits = set([\n",
    "        \"mcp\", \n",
    "        \"AI_Agents\", \n",
    "        \"AiBuilders\", \n",
    "        \"automation\", \n",
    "        \"ChatGPT\", \n",
    "        \"ClaudeAI\", \n",
    "        \"OpenAI\", \n",
    "        \"programming\",\n",
    "        \"PromptEngineering\", \n",
    "        \"SideProject\",\n",
    "        ])\n",
    "main(reddits)"
   ]
  },
  {
   "cell_type": "code",
   "execution_count": null,
   "id": "fb9d6db4",
   "metadata": {},
   "outputs": [],
   "source": [
    "from threads import main\n",
    "\n",
    "usernames = set([\n",
    "    \"choi.openai\", \n",
    "    \"bocchi.ai\", \n",
    "    \"mock_jokerbug\", \n",
    "    \"ymzinvest\", \n",
    "    \"obj.moss\", \n",
    "    \"smilegoodthings\", \n",
    "    \"quady.openai\", \n",
    "    \"cuticogent\", \n",
    "    \"anelo_96\", \n",
    "    \"heo_intern\", \n",
    "    \"aiowner_\",\n",
    "    ])"
   ]
  }
 ],
 "metadata": {
  "kernelspec": {
   "display_name": "env",
   "language": "python",
   "name": "python3"
  },
  "language_info": {
   "codemirror_mode": {
    "name": "ipython",
    "version": 3
   },
   "file_extension": ".py",
   "mimetype": "text/x-python",
   "name": "python",
   "nbconvert_exporter": "python",
   "pygments_lexer": "ipython3",
   "version": "3.11.12"
  }
 },
 "nbformat": 4,
 "nbformat_minor": 5
}
