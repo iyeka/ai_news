{
 "cells": [
  {
   "cell_type": "code",
   "execution_count": null,
   "id": "568ab399",
   "metadata": {},
   "outputs": [],
   "source": [
    "from youtube import main\n",
    "\n",
    "video_id = \"GKG6Gi7gT2o\"\n",
    "main(video_id)"
   ]
  },
  {
   "cell_type": "code",
   "execution_count": null,
   "id": "a8c54fe6",
   "metadata": {},
   "outputs": [],
   "source": [
    "from x import main\n",
    "\n",
    "users = set([\"IndieHackers\", \"levelsio\", \"ThePracticalDev\", \"matthewmontag\", \"kepano\", \"lexifdev\"])\n",
    "main(users)"
   ]
  },
  {
   "cell_type": "code",
   "execution_count": null,
   "id": "0efbf6d4",
   "metadata": {},
   "outputs": [],
   "source": [
    "from reddit import main\n",
    "\n",
    "reddits = set([\n",
    "        \"mcp\", \n",
    "        \"AI_Agents\", \n",
    "        \"AiBuilders\", \n",
    "        \"automation\", \n",
    "        \"ChatGPT\", \n",
    "        \"ClaudeAI\", \n",
    "        \"OpenAI\", \n",
    "        \"programming\",\n",
    "        \"PromptEngineering\", \n",
    "        \"SideProject\",\n",
    "        ])\n",
    "main(reddits)"
   ]
  },
  {
   "cell_type": "code",
   "execution_count": 1,
   "id": "fb9d6db4",
   "metadata": {},
   "outputs": [
    {
     "name": "stdout",
     "output_type": "stream",
     "text": [
      "Login info found!\n",
      "making url for a... please wait.\n"
     ]
    },
    {
     "ename": "TimeoutError",
     "evalue": "Locator.click: Timeout 30000ms exceeded.\nCall log:\n  - waiting for get_by_role(\"button\", name=\"Save Feed\")\n",
     "output_type": "error",
     "traceback": [
      "\u001b[31m---------------------------------------------------------------------------\u001b[39m",
      "\u001b[31mTimeoutError\u001b[39m                              Traceback (most recent call last)",
      "\u001b[36mCell\u001b[39m\u001b[36m \u001b[39m\u001b[32mIn[1]\u001b[39m\u001b[32m, line 16\u001b[39m\n\u001b[32m      1\u001b[39m \u001b[38;5;28;01mfrom\u001b[39;00m\u001b[38;5;250m \u001b[39m\u001b[34;01mthreads\u001b[39;00m\u001b[38;5;250m \u001b[39m\u001b[38;5;28;01mimport\u001b[39;00m main\n\u001b[32m      3\u001b[39m users = \u001b[38;5;28mset\u001b[39m([\n\u001b[32m      4\u001b[39m     \u001b[33m\"\u001b[39m\u001b[33mchoi.openai\u001b[39m\u001b[33m\"\u001b[39m, \n\u001b[32m      5\u001b[39m     \u001b[33m\"\u001b[39m\u001b[33mbocchi.ai\u001b[39m\u001b[33m\"\u001b[39m, \n\u001b[32m   (...)\u001b[39m\u001b[32m     14\u001b[39m     \u001b[33m\"\u001b[39m\u001b[33maiowner_\u001b[39m\u001b[33m\"\u001b[39m,\n\u001b[32m     15\u001b[39m     ])\n\u001b[32m---> \u001b[39m\u001b[32m16\u001b[39m \u001b[38;5;28;01mawait\u001b[39;00m main(\u001b[38;5;28mnext\u001b[39m(\u001b[38;5;28miter\u001b[39m(users)))\n",
      "\u001b[36mFile \u001b[39m\u001b[32m~/Documents/ai_news/threads.py:100\u001b[39m, in \u001b[36mmain\u001b[39m\u001b[34m(users)\u001b[39m\n\u001b[32m     99\u001b[39m \u001b[38;5;28;01masync\u001b[39;00m \u001b[38;5;28;01mdef\u001b[39;00m\u001b[38;5;250m \u001b[39m\u001b[34mmain\u001b[39m(users):\n\u001b[32m--> \u001b[39m\u001b[32m100\u001b[39m     urls = \u001b[38;5;28;01mawait\u001b[39;00m rss_generator().get_rss_urls(users)\n\u001b[32m    101\u001b[39m     utils.BaseSave(sheet_name=config.THREADS_SHEET).duplicated_or_save(keywords=urls, fn_get_posts=get_posts, fn_get_base_url=get_base_url)\n",
      "\u001b[36mFile \u001b[39m\u001b[32m~/Documents/ai_news/threads.py:56\u001b[39m, in \u001b[36mrss_generator.get_rss_urls\u001b[39m\u001b[34m(self, usernames)\u001b[39m\n\u001b[32m     53\u001b[39m \u001b[38;5;28;01mawait\u001b[39;00m page.click(\u001b[33m\"\u001b[39m\u001b[33mbutton[type=\u001b[39m\u001b[33m'\u001b[39m\u001b[33msubmit\u001b[39m\u001b[33m'\u001b[39m\u001b[33m]\u001b[39m\u001b[33m\"\u001b[39m)\n\u001b[32m     54\u001b[39m \u001b[38;5;28mprint\u001b[39m(\u001b[33mf\u001b[39m\u001b[33m\"\u001b[39m\u001b[33mmaking url for \u001b[39m\u001b[38;5;132;01m{\u001b[39;00musername\u001b[38;5;132;01m}\u001b[39;00m\u001b[33m... please wait.\u001b[39m\u001b[33m\"\u001b[39m)\n\u001b[32m---> \u001b[39m\u001b[32m56\u001b[39m \u001b[38;5;28;01mawait\u001b[39;00m page.get_by_role(\u001b[33m\"\u001b[39m\u001b[33mbutton\u001b[39m\u001b[33m\"\u001b[39m, name=\u001b[33m\"\u001b[39m\u001b[33mSave Feed\u001b[39m\u001b[33m\"\u001b[39m).click()\n\u001b[32m     58\u001b[39m rss_url = \u001b[38;5;28;01mawait\u001b[39;00m page.locator(\u001b[33m\"\u001b[39m\u001b[33minput.Mui-readOnly\u001b[39m\u001b[33m\"\u001b[39m).get_attribute(\u001b[33m\"\u001b[39m\u001b[33mvalue\u001b[39m\u001b[33m\"\u001b[39m)\n\u001b[32m     59\u001b[39m rss_urls.append(rss_url)\n",
      "\u001b[36mFile \u001b[39m\u001b[32m~/Documents/ai_news/env/lib/python3.11/site-packages/playwright/async_api/_generated.py:15460\u001b[39m, in \u001b[36mLocator.click\u001b[39m\u001b[34m(self, modifiers, position, delay, button, click_count, timeout, force, no_wait_after, trial)\u001b[39m\n\u001b[32m  15379\u001b[39m \u001b[38;5;28;01masync\u001b[39;00m \u001b[38;5;28;01mdef\u001b[39;00m\u001b[38;5;250m \u001b[39m\u001b[34mclick\u001b[39m(\n\u001b[32m  15380\u001b[39m     \u001b[38;5;28mself\u001b[39m,\n\u001b[32m  15381\u001b[39m     *,\n\u001b[32m   (...)\u001b[39m\u001b[32m  15392\u001b[39m     trial: typing.Optional[\u001b[38;5;28mbool\u001b[39m] = \u001b[38;5;28;01mNone\u001b[39;00m,\n\u001b[32m  15393\u001b[39m ) -> \u001b[38;5;28;01mNone\u001b[39;00m:\n\u001b[32m  15394\u001b[39m \u001b[38;5;250m    \u001b[39m\u001b[33;03m\"\"\"Locator.click\u001b[39;00m\n\u001b[32m  15395\u001b[39m \n\u001b[32m  15396\u001b[39m \u001b[33;03m    Click an element.\u001b[39;00m\n\u001b[32m   (...)\u001b[39m\u001b[32m  15456\u001b[39m \u001b[33;03m        are pressed.\u001b[39;00m\n\u001b[32m  15457\u001b[39m \u001b[33;03m    \"\"\"\u001b[39;00m\n\u001b[32m  15459\u001b[39m     \u001b[38;5;28;01mreturn\u001b[39;00m mapping.from_maybe_impl(\n\u001b[32m> \u001b[39m\u001b[32m15460\u001b[39m         \u001b[38;5;28;01mawait\u001b[39;00m \u001b[38;5;28mself\u001b[39m._impl_obj.click(\n\u001b[32m  15461\u001b[39m             modifiers=mapping.to_impl(modifiers),\n\u001b[32m  15462\u001b[39m             position=position,\n\u001b[32m  15463\u001b[39m             delay=delay,\n\u001b[32m  15464\u001b[39m             button=button,\n\u001b[32m  15465\u001b[39m             clickCount=click_count,\n\u001b[32m  15466\u001b[39m             timeout=timeout,\n\u001b[32m  15467\u001b[39m             force=force,\n\u001b[32m  15468\u001b[39m             noWaitAfter=no_wait_after,\n\u001b[32m  15469\u001b[39m             trial=trial,\n\u001b[32m  15470\u001b[39m         )\n\u001b[32m  15471\u001b[39m     )\n",
      "\u001b[36mFile \u001b[39m\u001b[32m~/Documents/ai_news/env/lib/python3.11/site-packages/playwright/_impl/_locator.py:160\u001b[39m, in \u001b[36mLocator.click\u001b[39m\u001b[34m(self, modifiers, position, delay, button, clickCount, timeout, force, noWaitAfter, trial)\u001b[39m\n\u001b[32m    147\u001b[39m \u001b[38;5;28;01masync\u001b[39;00m \u001b[38;5;28;01mdef\u001b[39;00m\u001b[38;5;250m \u001b[39m\u001b[34mclick\u001b[39m(\n\u001b[32m    148\u001b[39m     \u001b[38;5;28mself\u001b[39m,\n\u001b[32m    149\u001b[39m     modifiers: Sequence[KeyboardModifier] = \u001b[38;5;28;01mNone\u001b[39;00m,\n\u001b[32m   (...)\u001b[39m\u001b[32m    157\u001b[39m     trial: \u001b[38;5;28mbool\u001b[39m = \u001b[38;5;28;01mNone\u001b[39;00m,\n\u001b[32m    158\u001b[39m ) -> \u001b[38;5;28;01mNone\u001b[39;00m:\n\u001b[32m    159\u001b[39m     params = locals_to_params(\u001b[38;5;28mlocals\u001b[39m())\n\u001b[32m--> \u001b[39m\u001b[32m160\u001b[39m     \u001b[38;5;28;01mreturn\u001b[39;00m \u001b[38;5;28;01mawait\u001b[39;00m \u001b[38;5;28mself\u001b[39m._frame.click(\u001b[38;5;28mself\u001b[39m._selector, strict=\u001b[38;5;28;01mTrue\u001b[39;00m, **params)\n",
      "\u001b[36mFile \u001b[39m\u001b[32m~/Documents/ai_news/env/lib/python3.11/site-packages/playwright/_impl/_frame.py:488\u001b[39m, in \u001b[36mFrame.click\u001b[39m\u001b[34m(self, selector, modifiers, position, delay, button, clickCount, timeout, force, noWaitAfter, strict, trial)\u001b[39m\n\u001b[32m    474\u001b[39m \u001b[38;5;28;01masync\u001b[39;00m \u001b[38;5;28;01mdef\u001b[39;00m\u001b[38;5;250m \u001b[39m\u001b[34mclick\u001b[39m(\n\u001b[32m    475\u001b[39m     \u001b[38;5;28mself\u001b[39m,\n\u001b[32m    476\u001b[39m     selector: \u001b[38;5;28mstr\u001b[39m,\n\u001b[32m   (...)\u001b[39m\u001b[32m    486\u001b[39m     trial: \u001b[38;5;28mbool\u001b[39m = \u001b[38;5;28;01mNone\u001b[39;00m,\n\u001b[32m    487\u001b[39m ) -> \u001b[38;5;28;01mNone\u001b[39;00m:\n\u001b[32m--> \u001b[39m\u001b[32m488\u001b[39m     \u001b[38;5;28;01mawait\u001b[39;00m \u001b[38;5;28mself\u001b[39m._channel.send(\u001b[33m\"\u001b[39m\u001b[33mclick\u001b[39m\u001b[33m\"\u001b[39m, locals_to_params(\u001b[38;5;28mlocals\u001b[39m()))\n",
      "\u001b[36mFile \u001b[39m\u001b[32m~/Documents/ai_news/env/lib/python3.11/site-packages/playwright/_impl/_connection.py:61\u001b[39m, in \u001b[36mChannel.send\u001b[39m\u001b[34m(self, method, params)\u001b[39m\n\u001b[32m     60\u001b[39m \u001b[38;5;28;01masync\u001b[39;00m \u001b[38;5;28;01mdef\u001b[39;00m\u001b[38;5;250m \u001b[39m\u001b[34msend\u001b[39m(\u001b[38;5;28mself\u001b[39m, method: \u001b[38;5;28mstr\u001b[39m, params: Dict = \u001b[38;5;28;01mNone\u001b[39;00m) -> Any:\n\u001b[32m---> \u001b[39m\u001b[32m61\u001b[39m     \u001b[38;5;28;01mreturn\u001b[39;00m \u001b[38;5;28;01mawait\u001b[39;00m \u001b[38;5;28mself\u001b[39m._connection.wrap_api_call(\n\u001b[32m     62\u001b[39m         \u001b[38;5;28;01mlambda\u001b[39;00m: \u001b[38;5;28mself\u001b[39m._inner_send(method, params, \u001b[38;5;28;01mFalse\u001b[39;00m),\n\u001b[32m     63\u001b[39m         \u001b[38;5;28mself\u001b[39m._is_internal_type,\n\u001b[32m     64\u001b[39m     )\n",
      "\u001b[36mFile \u001b[39m\u001b[32m~/Documents/ai_news/env/lib/python3.11/site-packages/playwright/_impl/_connection.py:528\u001b[39m, in \u001b[36mConnection.wrap_api_call\u001b[39m\u001b[34m(self, cb, is_internal)\u001b[39m\n\u001b[32m    526\u001b[39m     \u001b[38;5;28;01mreturn\u001b[39;00m \u001b[38;5;28;01mawait\u001b[39;00m cb()\n\u001b[32m    527\u001b[39m \u001b[38;5;28;01mexcept\u001b[39;00m \u001b[38;5;167;01mException\u001b[39;00m \u001b[38;5;28;01mas\u001b[39;00m error:\n\u001b[32m--> \u001b[39m\u001b[32m528\u001b[39m     \u001b[38;5;28;01mraise\u001b[39;00m rewrite_error(error, \u001b[33mf\u001b[39m\u001b[33m\"\u001b[39m\u001b[38;5;132;01m{\u001b[39;00mparsed_st[\u001b[33m'\u001b[39m\u001b[33mapiName\u001b[39m\u001b[33m'\u001b[39m]\u001b[38;5;132;01m}\u001b[39;00m\u001b[33m: \u001b[39m\u001b[38;5;132;01m{\u001b[39;00merror\u001b[38;5;132;01m}\u001b[39;00m\u001b[33m\"\u001b[39m) \u001b[38;5;28;01mfrom\u001b[39;00m\u001b[38;5;250m \u001b[39m\u001b[38;5;28;01mNone\u001b[39;00m\n\u001b[32m    529\u001b[39m \u001b[38;5;28;01mfinally\u001b[39;00m:\n\u001b[32m    530\u001b[39m     \u001b[38;5;28mself\u001b[39m._api_zone.set(\u001b[38;5;28;01mNone\u001b[39;00m)\n",
      "\u001b[31mTimeoutError\u001b[39m: Locator.click: Timeout 30000ms exceeded.\nCall log:\n  - waiting for get_by_role(\"button\", name=\"Save Feed\")\n"
     ]
    }
   ],
   "source": [
    "from threads import main\n",
    "\n",
    "users = set([\n",
    "    \"choi.openai\", \n",
    "    \"bocchi.ai\", \n",
    "    \"mock_jokerbug\", \n",
    "    \"ymzinvest\", \n",
    "    \"obj.moss\", \n",
    "    \"smilegoodthings\", \n",
    "    \"quady.openai\", \n",
    "    \"cuticogent\", \n",
    "    \"anelo_96\", \n",
    "    \"heo_intern\", \n",
    "    \"aiowner_\",\n",
    "    ])\n",
    "await main(next(iter(users)))"
   ]
  }
 ],
 "metadata": {
  "kernelspec": {
   "display_name": "env",
   "language": "python",
   "name": "python3"
  },
  "language_info": {
   "codemirror_mode": {
    "name": "ipython",
    "version": 3
   },
   "file_extension": ".py",
   "mimetype": "text/x-python",
   "name": "python",
   "nbconvert_exporter": "python",
   "pygments_lexer": "ipython3",
   "version": "3.11.12"
  }
 },
 "nbformat": 4,
 "nbformat_minor": 5
}
