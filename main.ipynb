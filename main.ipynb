{
 "cells": [
  {
   "cell_type": "code",
   "execution_count": null,
   "id": "568ab399",
   "metadata": {},
   "outputs": [],
   "source": [
    "from youtube import main\n",
    "\n",
    "video_id = \"GKG6Gi7gT2o\"\n",
    "main(video_id)"
   ]
  },
  {
   "cell_type": "code",
   "execution_count": null,
   "id": "a8c54fe6",
   "metadata": {},
   "outputs": [],
   "source": [
    "from x import main\n",
    "\n",
    "users = set([\"IndieHackers\", \"levelsio\", \"ThePracticalDev\", \"matthewmontag\", \"kepano\", \"lexifdev\"])\n",
    "main(users)"
   ]
  },
  {
   "cell_type": "code",
   "execution_count": 3,
   "id": "0efbf6d4",
   "metadata": {},
   "outputs": [
    {
     "name": "stdout",
     "output_type": "stream",
     "text": [
      "Duplicate data found https://www.reddit.com/gallery/1223kxl, skipping...\n",
      "Duplicate data found https://www.reddit.com/gallery/1kph7ue, skipping...\n",
      "Duplicate data found https://www.reddit.com/gallery/1kpxj30, skipping...\n",
      "Duplicate data found https://www.reddit.com/gallery/1kofvp1, skipping...\n",
      "Duplicate data found https://www.reddit.com/gallery/1kn9vm3, skipping...\n",
      "Duplicate data found https://www.reddit.com/gallery/120fyp1, skipping...\n",
      "Duplicate data found https://www.reddit.com/gallery/1kwyi8t, skipping...\n",
      "Duplicate data found https://www.reddit.com/gallery/1ks1ia4, skipping...\n",
      "Duplicate data found https://www.reddit.com/gallery/1kmivzx, skipping...\n",
      "Duplicate data found https://www.reddit.com/gallery/1kwto4r, skipping...\n",
      "Duplicate data found https://www.reddit.com/gallery/1kwos08, skipping...\n",
      "Duplicate data found https://www.reddit.com/gallery/1kwput4, skipping...\n",
      "Duplicate data found https://www.reddit.com/gallery/1kuv6bg, skipping...\n",
      "Duplicate data found https://www.reddit.com/gallery/1kx4ef2, skipping...\n",
      "Duplicate data found https://www.reddit.com/gallery/1kx0ptc, skipping...\n",
      "Duplicate data found https://www.reddit.com/gallery/1kwwy4w, skipping...\n",
      "Duplicate data found https://www.reddit.com/gallery/1ieonxv, skipping...\n",
      "Duplicate data found https://www.reddit.com/gallery/1ks46vb, skipping...\n",
      "Duplicate data found https://www.reddit.com/gallery/1kwzcjd, skipping...\n",
      "Duplicate data found https://www.reddit.com/gallery/1kx46s1, skipping...\n",
      "Duplicate data found https://www.reddit.com/gallery/1kwuwy6, skipping...\n",
      "Duplicate data found https://www.reddit.com/gallery/1kwpeeq, skipping...\n",
      "Duplicate data found https://www.reddit.com/gallery/1kwr0iv, skipping...\n",
      "Duplicate data found https://www.reddit.com/gallery/1kbvsyj, skipping...\n",
      "Duplicate data found https://www.reddit.com/gallery/1kwu5lr, skipping...\n",
      "Duplicate data found https://www.reddit.com/gallery/1h7qe88, skipping...\n",
      "Duplicate data found https://www.reddit.com/gallery/1h7pl2v, skipping...\n",
      "Duplicate data found https://www.reddit.com/gallery/1kx27io, skipping...\n",
      "Duplicate data found https://www.reddit.com/gallery/1ko3tp1, skipping...\n",
      "Duplicate data found https://www.reddit.com/gallery/1kwu3tr, skipping...\n",
      "Duplicate data found https://www.reddit.com/gallery/1kwvur6, skipping...\n",
      "Duplicate data found https://www.reddit.com/gallery/1kwt7xf, skipping...\n",
      "✅ New data appended successfully: reddit!A52:E69\n"
     ]
    }
   ],
   "source": [
    "from reddit import main\n",
    "\n",
    "reddits = set([\n",
    "        \"mcp\", \n",
    "        \"AI_Agents\", \n",
    "        \"AiBuilders\", \n",
    "        \"automation\", \n",
    "        \"ChatGPT\", \n",
    "        \"ClaudeAI\", \n",
    "        \"OpenAI\", \n",
    "        \"programming\",\n",
    "        \"PromptEngineering\", \n",
    "        \"SideProject\",\n",
    "        ])\n",
    "main(reddits)"
   ]
  }
 ],
 "metadata": {
  "kernelspec": {
   "display_name": "env",
   "language": "python",
   "name": "python3"
  },
  "language_info": {
   "codemirror_mode": {
    "name": "ipython",
    "version": 3
   },
   "file_extension": ".py",
   "mimetype": "text/x-python",
   "name": "python",
   "nbconvert_exporter": "python",
   "pygments_lexer": "ipython3",
   "version": "3.11.12"
  }
 },
 "nbformat": 4,
 "nbformat_minor": 5
}
